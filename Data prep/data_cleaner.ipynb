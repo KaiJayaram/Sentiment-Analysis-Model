{
 "cells": [
  {
   "cell_type": "code",
   "execution_count": null,
   "metadata": {},
   "outputs": [],
   "source": [
    "import csv\n",
    "import os\n",
    "import gzip\n",
    "import pickle\n",
    "##############################################\n",
    "#### Helper Functions For data Processing ####\n",
    "##############################################\n",
    "\n",
    "# Returns the absolute path on this computer to the data folder\n",
    "def getRawDataPath(filename):\n",
    "    return os.path.join(\"C:\\\\\", \"Users\", \"liqhtninq\", \"Documents\", \"Sentiment Analysis Model\", \"Raw Data\", filename)\n",
    "\n",
    "def getCleanDataPath(filename):\n",
    "    return os.path.join(\"C:\\\\\", \"Users\", \"liqhtninq\", \"Documents\", \"Sentiment Analysis Model\", \"Clean Data\", filename)\n",
    "\n",
    "# will read csv file into list object\n",
    "def readCSV(filename, enc='UTF-8'):\n",
    "    with open(getRawDataPath(filename) , 'rt', encoding=enc) as f:\n",
    "        reader = csv.reader(f)\n",
    "        data = list(reader)\n",
    "    return data\n",
    "\n",
    "# generator of lines in a gzip file\n",
    "def yeildGZ(f):\n",
    "    for l in gzip.open(getRawDataPath(f)):\n",
    "        yield eval(l)\n",
    "\n",
    "# List of lines in a gzip file\n",
    "def readGZ(f):\n",
    "    return [d for d in yeildGZ(f)]\n",
    "\n",
    "# Print some basic data statistics\n",
    "def examineData(data):\n",
    "    print(\"First Element: \", data[1])\n",
    "    print(\"Data Length: \", len(data))\n",
    "    print(\"Number of Data Columns: \", len(data[0]))\n",
    "    print(\"Headers (if present): \", data[0].keys())\n",
    "\n",
    "# returns a column from a list of dictionaries\n",
    "def getColumn(col, data):\n",
    "    return [d[col] for d in data]\n",
    "\n",
    "def saveAsPkl(file, data):\n",
    "    with open(file, 'wb') as f:\n",
    "        pickle.dump(data, f)\n",
    "        \n",
    "def ratingsToSentiment(ratings, threshold):\n",
    "    return [1 if r > threshold else 0 for r in ratings]\n",
    "        "
   ]
  },
  {
   "cell_type": "markdown",
   "metadata": {},
   "source": [
    "# AMAZON REVIEWS PARSER\n"
   ]
  },
  {
   "cell_type": "code",
   "execution_count": null,
   "metadata": {},
   "outputs": [],
   "source": [
    "\n",
    "# Data collected from http://jmcauley.ucsd.edu/data/amazon/\n",
    "\n",
    "## read in the data\n",
    "filename = 'reviews_Electronics_5.json.gz'\n",
    "dataname = 'Amazon Electronics Reviews'\n",
    "requiredData =['reviewText', \"overall\"]\n",
    "data = readGZ(filename, notEmptyFilter)\n",
    "\n",
    "examineData(data)"
   ]
  },
  {
   "cell_type": "code",
   "execution_count": null,
   "metadata": {},
   "outputs": [],
   "source": [
    "## save the data as cleaned data\n",
    "text = getColumn('reviewText', data)\n",
    "ratings = getColumn('overall', data)\n",
    "\n",
    "# parse ratings into binary little negative skewed as people tend to give higher ratings to things they like\n",
    "threshold = 3.0\n",
    "ratings = ratingsToSentiment(ratings, threshold)\n",
    "\n",
    "text_data_file = getCleanDataPath(dataname + ' Text.pkl')\n",
    "ratings_data_file = getCleanDataPath(dataname + \" Ratings.pkl\")\n",
    "\n",
    "saveAsPkl(text_data_file, text)\n",
    "saveAsPkl(ratings_data_file, ratings)"
   ]
  },
  {
   "cell_type": "markdown",
   "metadata": {},
   "source": [
    "# OTHER PARSERS"
   ]
  },
  {
   "cell_type": "code",
   "execution_count": null,
   "metadata": {
    "collapsed": true
   },
   "outputs": [],
   "source": []
  }
 ],
 "metadata": {
  "kernelspec": {
   "display_name": "Python 3",
   "language": "python",
   "name": "python3"
  },
  "language_info": {
   "codemirror_mode": {
    "name": "ipython",
    "version": 3
   },
   "file_extension": ".py",
   "mimetype": "text/x-python",
   "name": "python",
   "nbconvert_exporter": "python",
   "pygments_lexer": "ipython3",
   "version": "3.6.3"
  }
 },
 "nbformat": 4,
 "nbformat_minor": 2
}
